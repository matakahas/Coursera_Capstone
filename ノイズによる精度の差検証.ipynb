{
 "cells": [
  {
   "cell_type": "markdown",
   "metadata": {},
   "source": [
    "#### ライブラリ"
   ]
  },
  {
   "cell_type": "code",
   "execution_count": 15,
   "metadata": {},
   "outputs": [],
   "source": [
    "from __future__ import division\n",
    "import os\n",
    "import io\n",
    "import re\n",
    "import sys\n",
    "import pyaudio\n",
    "import librosa\n",
    "from google.cloud import speech\n",
    "from google.cloud import storage\n",
    "import numpy as np\n",
    "import pandas as pd\n",
    "from six.moves import queue\n",
    "from natsort import natsorted\n",
    "import IPython\n",
    "from scipy.io import wavfile\n",
    "import soundfile as sf\n",
    "import scipy.signal\n",
    "import matplotlib.pyplot as plt\n",
    "#import noisereduce as nr\n",
    "%matplotlib inline"
   ]
  },
  {
   "cell_type": "markdown",
   "metadata": {},
   "source": [
    "#### 検証する文章\n",
    "\n",
    "*田中さん、脈拍をはかりますね。あ、腕まくりはいりませんよ。ちょっと失礼しますね。じゃあ付けますね。...よいしょっと。では測ります。...今日はいつもより速めですね。...93ですね。お疲れ様でした。*"
   ]
  },
  {
   "cell_type": "markdown",
   "metadata": {},
   "source": [
    "#### 懸念点\n",
    "* 周囲の雑音による精度低下\n",
    "* 数字の読み上げ途中に間があった場合の誤登録（はちじゅう...ろくですね）"
   ]
  },
  {
   "cell_type": "markdown",
   "metadata": {},
   "source": [
    "#### 検証に使う音声\n",
    "\n",
    "6つの音声ファイルを文字起こしした際の精度を比較する。\n",
    "\n",
    "* 静かな環境・間なし（File1）\n",
    "* ややうるさい環境・間なし（File2）\n",
    "* うるさい環境・間なし（File3）\n",
    "* 静かな環境・間あり（File4）\n",
    "* ややうるさい環境・間あり（File5）\n",
    "* うるさい環境・間あり（File6）\n",
    "\n",
    "検証文はAudacityで録音、.wav形式で保存したのちフリーの環境音声と合成。\n",
    "また、環境音がある音声に関しては`noisereduce`ライブラリを用いたノイズ軽減処理を行った場合の精度も確認する。"
   ]
  },
  {
   "cell_type": "code",
   "execution_count": 5,
   "metadata": {},
   "outputs": [
    {
     "data": {
      "text/html": [
       "\n",
       "                <audio  controls=\"controls\" >\n",
       "                    <source src=\"../google_speech_to_text_API/data/test_nopause.wav\" type=\"audio/x-wav\" />\n",
       "                    Your browser does not support the audio element.\n",
       "                </audio>\n",
       "              "
      ],
      "text/plain": [
       "<IPython.lib.display.Audio object>"
      ]
     },
     "metadata": {},
     "output_type": "display_data"
    },
    {
     "data": {
      "text/html": [
       "\n",
       "                <audio  controls=\"controls\" >\n",
       "                    <source src=\"../google_speech_to_text_API/data/test_nopause_noisy.wav\" type=\"audio/x-wav\" />\n",
       "                    Your browser does not support the audio element.\n",
       "                </audio>\n",
       "              "
      ],
      "text/plain": [
       "<IPython.lib.display.Audio object>"
      ]
     },
     "metadata": {},
     "output_type": "display_data"
    },
    {
     "data": {
      "text/html": [
       "\n",
       "                <audio  controls=\"controls\" >\n",
       "                    <source src=\"../google_speech_to_text_API/data/test_nopause_verynoisy.wav\" type=\"audio/x-wav\" />\n",
       "                    Your browser does not support the audio element.\n",
       "                </audio>\n",
       "              "
      ],
      "text/plain": [
       "<IPython.lib.display.Audio object>"
      ]
     },
     "metadata": {},
     "output_type": "display_data"
    },
    {
     "data": {
      "text/html": [
       "\n",
       "                <audio  controls=\"controls\" >\n",
       "                    <source src=\"../google_speech_to_text_API/data/test_pause.wav\" type=\"audio/x-wav\" />\n",
       "                    Your browser does not support the audio element.\n",
       "                </audio>\n",
       "              "
      ],
      "text/plain": [
       "<IPython.lib.display.Audio object>"
      ]
     },
     "metadata": {},
     "output_type": "display_data"
    },
    {
     "data": {
      "text/html": [
       "\n",
       "                <audio  controls=\"controls\" >\n",
       "                    <source src=\"../google_speech_to_text_API/data/test_pause_noisy.wav\" type=\"audio/x-wav\" />\n",
       "                    Your browser does not support the audio element.\n",
       "                </audio>\n",
       "              "
      ],
      "text/plain": [
       "<IPython.lib.display.Audio object>"
      ]
     },
     "metadata": {},
     "output_type": "display_data"
    },
    {
     "data": {
      "text/html": [
       "\n",
       "                <audio  controls=\"controls\" >\n",
       "                    <source src=\"../google_speech_to_text_API/data/test_pause_verynoisy.wav\" type=\"audio/x-wav\" />\n",
       "                    Your browser does not support the audio element.\n",
       "                </audio>\n",
       "              "
      ],
      "text/plain": [
       "<IPython.lib.display.Audio object>"
      ]
     },
     "metadata": {},
     "output_type": "display_data"
    }
   ],
   "source": [
    "IPython.display.display(IPython.display.Audio(url=\"../google_speech_to_text_API/data/test_nopause.wav\"))\n",
    "IPython.display.display(IPython.display.Audio(url=\"../google_speech_to_text_API/data/test_nopause_noisy.wav\"))\n",
    "IPython.display.display(IPython.display.Audio(url=\"../google_speech_to_text_API/data/test_nopause_verynoisy.wav\"))\n",
    "IPython.display.display(IPython.display.Audio(url=\"../google_speech_to_text_API/data/test_pause.wav\"))\n",
    "IPython.display.display(IPython.display.Audio(url=\"../google_speech_to_text_API/data/test_pause_noisy.wav\"))\n",
    "IPython.display.display(IPython.display.Audio(url=\"../google_speech_to_text_API/data/test_pause_verynoisy.wav\"))"
   ]
  },
  {
   "cell_type": "markdown",
   "metadata": {},
   "source": [
    "#### Google Speech-to-Text APIで文字起こし"
   ]
  },
  {
   "cell_type": "code",
   "execution_count": 10,
   "metadata": {},
   "outputs": [],
   "source": [
    "os.environ[\"GOOGLE_APPLICATION_CREDENTIALS\"]=\"../google_speech_to_text_API/onyx-glazing-302315-6269164c75cd.json\""
   ]
  },
  {
   "cell_type": "code",
   "execution_count": 24,
   "metadata": {},
   "outputs": [
    {
     "name": "stdout",
     "output_type": "stream",
     "text": [
      "['test_nopause.wav', 'test_nopause_noisy.wav', 'test_nopause_verynoisy.wav', 'test_pause.wav', 'test_pause_noisy.wav', 'test_pause_verynoisy.wav']\n"
     ]
    }
   ],
   "source": [
    "client = storage.Client()\n",
    "bucket = client.get_bucket('mahos_stt_bucket')\n",
    "blobs = bucket.list_blobs()\n",
    "filter_dir = 'pause'\n",
    "blob_list = [blob.name for blob in blobs if filter_dir in blob.name ]\n",
    "\n",
    "print(blob_list)"
   ]
  },
  {
   "cell_type": "code",
   "execution_count": 25,
   "metadata": {},
   "outputs": [
    {
     "name": "stdout",
     "output_type": "stream",
     "text": [
      "['gs://mahos_stt_bucket/test_nopause.wav', 'gs://mahos_stt_bucket/test_nopause_noisy.wav', 'gs://mahos_stt_bucket/test_nopause_verynoisy.wav', 'gs://mahos_stt_bucket/test_pause.wav', 'gs://mahos_stt_bucket/test_pause_noisy.wav', 'gs://mahos_stt_bucket/test_pause_verynoisy.wav']\n"
     ]
    }
   ],
   "source": [
    "path_list =[]\n",
    "for x in blob_list:\n",
    "    name = \"gs://mahos_stt_bucket/{}\".format(x)\n",
    "    path_list.append(name)\n",
    "print(path_list)"
   ]
  },
  {
   "cell_type": "code",
   "execution_count": 22,
   "metadata": {},
   "outputs": [],
   "source": [
    "def sample_long_running_recognize(gcs_uri):\n",
    "    \"\"\"\n",
    "    Print start and end time of each word spoken in audio file from Cloud Storage\n",
    "\n",
    "    Args:\n",
    "      storage_uri URI for audio file in Cloud Storage, e.g. gs://[BUCKET]/[FILE]\n",
    "    \"\"\"\n",
    "\n",
    "    client = speech.SpeechClient()\n",
    "    # When enabled, the first result returned by the API will include a list\n",
    "    # of words and the start and end time offsets (timestamps) for those words.\n",
    "    \n",
    "    audio = speech.RecognitionAudio(uri=gcs_uri)\n",
    "    config = speech.RecognitionConfig(\n",
    "        encoding=speech.RecognitionConfig.AudioEncoding.LINEAR16,\n",
    "        enable_word_time_offsets=True,\n",
    "        audio_channel_count=1,\n",
    "        language_code=\"ja-JP\",\n",
    "    )\n",
    "\n",
    "    operation = client.long_running_recognize(config=config, audio=audio)\n",
    "\n",
    "    print(u\"{}の文字起こし結果\".format(gcs_uri.split('/')[-1]))\n",
    "    response = operation.result()\n",
    "    \n",
    "    \n",
    "    stt_result = {\"文字起こし\":[]}\n",
    "    confidence = {\"Confidenceスコア\":[]}\n",
    "    time_count = {\"単語\":[],\"Start time\":[],\"End time\":[]}\n",
    "\n",
    "    for result in response.results:\n",
    "        alternative = result.alternatives[0]\n",
    "        stt_result[\"文字起こし\"].append(alternative.transcript)\n",
    "        print(u\"文字起こし: {}\".format(alternative.transcript))\n",
    "        confidence[\"Confidenceスコア\"].append(alternative.confidence)\n",
    "        for word in alternative.words:\n",
    "            time_count[\"単語\"].append(word.word)\n",
    "            start_time = word.start_time\n",
    "            end_time= word.end_time\n",
    "            \n",
    "            time_count[\"Start time\"].append(start_time)\n",
    "            time_count[\"End time\"].append(end_time)\n",
    "            \n",
    "    return stt_result,confidence,time_count"
   ]
  },
  {
   "cell_type": "code",
   "execution_count": null,
   "metadata": {},
   "outputs": [
    {
     "name": "stdout",
     "output_type": "stream",
     "text": [
      "test_nopause.wavの文字起こし結果\n",
      "文字起こし: 田中さん脈拍を測りますねは腕まくりは要りませんよちょっと失礼しますねじゃあつけますね良いちょっとでは計ります今日はいつもより早めですね\n",
      "文字起こし: 93ですねお疲れ様でした\n",
      "test_nopause_noisy.wavの文字起こし結果\n",
      "文字起こし: 田中さん脈拍を測りますねあ腕まくりは要りませんよちょっと失礼しますねじゃあつけますね良いショットでは計ります今日はいつもより早めですね93ですねお疲れ様でした\n",
      "test_nopause_verynoisy.wavの文字起こし結果\n",
      "文字起こし: ちょっとしたらそうだねじゃあちょっとで分かります今日はいつもより早いですね93ですねお疲れ様でした\n",
      "test_pause.wavの文字起こし結果\n",
      "文字起こし: 田中さん脈拍を測りますね\n",
      "文字起こし: 腕まくりは要りませんよ\n",
      "文字起こし: ちょっと失礼しますね\n",
      "文字起こし: じゃあつけますね\n",
      "文字起こし: よいしょっと\n",
      "文字起こし: では計ります\n",
      "文字起こし: 今日はいつもより早めですね\n",
      "文字起こし: 90\n",
      "文字起こし: 3ですねお疲れ様でした\n",
      "test_pause_noisy.wavの文字起こし結果\n",
      "文字起こし: 田中さん脈拍を測りますねあ腕まくりは要りませんよちょっと失礼しますねじゃあつけますね良いショットではかかります今日はいつもより早めですね93ですねお疲れ様でした\n",
      "test_pause_verynoisy.wavの文字起こし結果\n"
     ]
    }
   ],
   "source": [
    "for gcs_uri in path_list:\n",
    "    stt_result, confidence, time_count = sample_long_running_recognize(gcs_uri)"
   ]
  },
  {
   "cell_type": "code",
   "execution_count": null,
   "metadata": {},
   "outputs": [],
   "source": []
  }
 ],
 "metadata": {
  "kernelspec": {
   "display_name": "Python 3",
   "language": "python",
   "name": "python3"
  },
  "language_info": {
   "codemirror_mode": {
    "name": "ipython",
    "version": 3
   },
   "file_extension": ".py",
   "mimetype": "text/x-python",
   "name": "python",
   "nbconvert_exporter": "python",
   "pygments_lexer": "ipython3",
   "version": "3.7.6"
  }
 },
 "nbformat": 4,
 "nbformat_minor": 4
}
